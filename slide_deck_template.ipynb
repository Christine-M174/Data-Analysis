{
 "cells": [
  {
   "cell_type": "markdown",
   "metadata": {
    "slideshow": {
     "slide_type": "slide"
    }
   },
   "source": [
    "# (Visualizing FordGoBike Data)\n",
    "## by (Christine Magdy Ghobrial)"
   ]
  },
  {
   "cell_type": "markdown",
   "metadata": {
    "slideshow": {
     "slide_type": "slide"
    }
   },
   "source": [
    "## Investigation Overview\n",
    "\n",
    "> In this investigation of the Ford GoBike System, I wanted to look at the most common customer behaviors , how user type, time, gender, and age impacts usage of the system.\n",
    "## Dataset Overview\n",
    "\n",
    "> Ford GoBike is a regional public bicycle sharing system in the San Francisco Bay Area, California. Ford GoBike,consists of a fleet of specially designed,The bikes can be unlocked from one station and returned to any other station in the system, making them ideal for one-way trips. The bikes are available in any time and riders have access to all bikes in the network when they become a member or purchase a pass.\n",
    "Ford GoBike, like other bike share systems, consists of a fleet of specially designed, sturdy and durable bikes that are locked into a network of docking stations throughout the city. The bikes can be unlocked from one station and returned to any other station in the system, making them ideal for one-way trips. People use bike share to commute to work or school, run errands, get to appointments or social engagements and more. It's a fun, convenient and affordable way to get around."
   ]
  },
  {
   "cell_type": "code",
   "execution_count": 1,
   "metadata": {
    "slideshow": {
     "slide_type": "skip"
    }
   },
   "outputs": [],
   "source": [
    "# import all packages and set plots to be embedded inline\n",
    "import numpy as np\n",
    "import pandas as pd\n",
    "import matplotlib.pyplot as plt\n",
    "import seaborn as sb\n",
    "\n",
    "%matplotlib inline\n",
    "\n",
    "# suppress warnings from final output\n",
    "import warnings\n",
    "warnings.simplefilter(\"ignore\")"
   ]
  },
  {
   "cell_type": "code",
   "execution_count": 2,
   "metadata": {
    "slideshow": {
     "slide_type": "skip"
    }
   },
   "outputs": [
    {
     "data": {
      "text/html": [
       "<div>\n",
       "<style scoped>\n",
       "    .dataframe tbody tr th:only-of-type {\n",
       "        vertical-align: middle;\n",
       "    }\n",
       "\n",
       "    .dataframe tbody tr th {\n",
       "        vertical-align: top;\n",
       "    }\n",
       "\n",
       "    .dataframe thead th {\n",
       "        text-align: right;\n",
       "    }\n",
       "</style>\n",
       "<table border=\"1\" class=\"dataframe\">\n",
       "  <thead>\n",
       "    <tr style=\"text-align: right;\">\n",
       "      <th></th>\n",
       "      <th>duration_sec</th>\n",
       "      <th>start_time</th>\n",
       "      <th>end_time</th>\n",
       "      <th>start_station_id</th>\n",
       "      <th>start_station_name</th>\n",
       "      <th>start_station_latitude</th>\n",
       "      <th>start_station_longitude</th>\n",
       "      <th>end_station_id</th>\n",
       "      <th>end_station_name</th>\n",
       "      <th>end_station_latitude</th>\n",
       "      <th>...</th>\n",
       "      <th>bike_id</th>\n",
       "      <th>user_type</th>\n",
       "      <th>member_birth_year</th>\n",
       "      <th>member_gender</th>\n",
       "      <th>bike_share_for_all_trip</th>\n",
       "      <th>start_time_weekday</th>\n",
       "      <th>start_time_hour</th>\n",
       "      <th>end_time_hour</th>\n",
       "      <th>duration_minute</th>\n",
       "      <th>member_age</th>\n",
       "    </tr>\n",
       "  </thead>\n",
       "  <tbody>\n",
       "    <tr>\n",
       "      <th>0</th>\n",
       "      <td>52185</td>\n",
       "      <td>2019-02-28 17:32:10.145</td>\n",
       "      <td>2019-03-01 08:01:55.975</td>\n",
       "      <td>21.0</td>\n",
       "      <td>Montgomery St BART Station (Market St at 2nd St)</td>\n",
       "      <td>37.789625</td>\n",
       "      <td>-122.400811</td>\n",
       "      <td>13.0</td>\n",
       "      <td>Commercial St at Montgomery St</td>\n",
       "      <td>37.794231</td>\n",
       "      <td>...</td>\n",
       "      <td>4902</td>\n",
       "      <td>Customer</td>\n",
       "      <td>1984</td>\n",
       "      <td>Male</td>\n",
       "      <td>No</td>\n",
       "      <td>Thu</td>\n",
       "      <td>17</td>\n",
       "      <td>8</td>\n",
       "      <td>869.750000</td>\n",
       "      <td>36</td>\n",
       "    </tr>\n",
       "    <tr>\n",
       "      <th>2</th>\n",
       "      <td>61854</td>\n",
       "      <td>2019-02-28 12:13:13.218</td>\n",
       "      <td>2019-03-01 05:24:08.146</td>\n",
       "      <td>86.0</td>\n",
       "      <td>Market St at Dolores St</td>\n",
       "      <td>37.769305</td>\n",
       "      <td>-122.426826</td>\n",
       "      <td>3.0</td>\n",
       "      <td>Powell St BART Station (Market St at 4th St)</td>\n",
       "      <td>37.786375</td>\n",
       "      <td>...</td>\n",
       "      <td>5905</td>\n",
       "      <td>Customer</td>\n",
       "      <td>1972</td>\n",
       "      <td>Male</td>\n",
       "      <td>No</td>\n",
       "      <td>Thu</td>\n",
       "      <td>12</td>\n",
       "      <td>5</td>\n",
       "      <td>1030.900000</td>\n",
       "      <td>48</td>\n",
       "    </tr>\n",
       "    <tr>\n",
       "      <th>3</th>\n",
       "      <td>36490</td>\n",
       "      <td>2019-02-28 17:54:26.010</td>\n",
       "      <td>2019-03-01 04:02:36.842</td>\n",
       "      <td>375.0</td>\n",
       "      <td>Grove St at Masonic Ave</td>\n",
       "      <td>37.774836</td>\n",
       "      <td>-122.446546</td>\n",
       "      <td>70.0</td>\n",
       "      <td>Central Ave at Fell St</td>\n",
       "      <td>37.773311</td>\n",
       "      <td>...</td>\n",
       "      <td>6638</td>\n",
       "      <td>Subscriber</td>\n",
       "      <td>1989</td>\n",
       "      <td>Other</td>\n",
       "      <td>No</td>\n",
       "      <td>Thu</td>\n",
       "      <td>17</td>\n",
       "      <td>4</td>\n",
       "      <td>608.166667</td>\n",
       "      <td>31</td>\n",
       "    </tr>\n",
       "    <tr>\n",
       "      <th>4</th>\n",
       "      <td>1585</td>\n",
       "      <td>2019-02-28 23:54:18.549</td>\n",
       "      <td>2019-03-01 00:20:44.074</td>\n",
       "      <td>7.0</td>\n",
       "      <td>Frank H Ogawa Plaza</td>\n",
       "      <td>37.804562</td>\n",
       "      <td>-122.271738</td>\n",
       "      <td>222.0</td>\n",
       "      <td>10th Ave at E 15th St</td>\n",
       "      <td>37.792714</td>\n",
       "      <td>...</td>\n",
       "      <td>4898</td>\n",
       "      <td>Subscriber</td>\n",
       "      <td>1974</td>\n",
       "      <td>Male</td>\n",
       "      <td>Yes</td>\n",
       "      <td>Thu</td>\n",
       "      <td>23</td>\n",
       "      <td>0</td>\n",
       "      <td>26.416667</td>\n",
       "      <td>46</td>\n",
       "    </tr>\n",
       "    <tr>\n",
       "      <th>5</th>\n",
       "      <td>1793</td>\n",
       "      <td>2019-02-28 23:49:58.632</td>\n",
       "      <td>2019-03-01 00:19:51.760</td>\n",
       "      <td>93.0</td>\n",
       "      <td>4th St at Mission Bay Blvd S</td>\n",
       "      <td>37.770407</td>\n",
       "      <td>-122.391198</td>\n",
       "      <td>323.0</td>\n",
       "      <td>Broadway at Kearny</td>\n",
       "      <td>37.798014</td>\n",
       "      <td>...</td>\n",
       "      <td>5200</td>\n",
       "      <td>Subscriber</td>\n",
       "      <td>1959</td>\n",
       "      <td>Male</td>\n",
       "      <td>No</td>\n",
       "      <td>Thu</td>\n",
       "      <td>23</td>\n",
       "      <td>0</td>\n",
       "      <td>29.883333</td>\n",
       "      <td>61</td>\n",
       "    </tr>\n",
       "  </tbody>\n",
       "</table>\n",
       "<p>5 rows × 21 columns</p>\n",
       "</div>"
      ],
      "text/plain": [
       "   duration_sec              start_time                end_time  \\\n",
       "0         52185 2019-02-28 17:32:10.145 2019-03-01 08:01:55.975   \n",
       "2         61854 2019-02-28 12:13:13.218 2019-03-01 05:24:08.146   \n",
       "3         36490 2019-02-28 17:54:26.010 2019-03-01 04:02:36.842   \n",
       "4          1585 2019-02-28 23:54:18.549 2019-03-01 00:20:44.074   \n",
       "5          1793 2019-02-28 23:49:58.632 2019-03-01 00:19:51.760   \n",
       "\n",
       "   start_station_id                                start_station_name  \\\n",
       "0              21.0  Montgomery St BART Station (Market St at 2nd St)   \n",
       "2              86.0                           Market St at Dolores St   \n",
       "3             375.0                           Grove St at Masonic Ave   \n",
       "4               7.0                               Frank H Ogawa Plaza   \n",
       "5              93.0                      4th St at Mission Bay Blvd S   \n",
       "\n",
       "   start_station_latitude  start_station_longitude  end_station_id  \\\n",
       "0               37.789625              -122.400811            13.0   \n",
       "2               37.769305              -122.426826             3.0   \n",
       "3               37.774836              -122.446546            70.0   \n",
       "4               37.804562              -122.271738           222.0   \n",
       "5               37.770407              -122.391198           323.0   \n",
       "\n",
       "                               end_station_name  end_station_latitude  ...  \\\n",
       "0                Commercial St at Montgomery St             37.794231  ...   \n",
       "2  Powell St BART Station (Market St at 4th St)             37.786375  ...   \n",
       "3                        Central Ave at Fell St             37.773311  ...   \n",
       "4                         10th Ave at E 15th St             37.792714  ...   \n",
       "5                            Broadway at Kearny             37.798014  ...   \n",
       "\n",
       "   bike_id   user_type member_birth_year  member_gender  \\\n",
       "0     4902    Customer              1984           Male   \n",
       "2     5905    Customer              1972           Male   \n",
       "3     6638  Subscriber              1989          Other   \n",
       "4     4898  Subscriber              1974           Male   \n",
       "5     5200  Subscriber              1959           Male   \n",
       "\n",
       "  bike_share_for_all_trip start_time_weekday start_time_hour  end_time_hour  \\\n",
       "0                      No                Thu              17              8   \n",
       "2                      No                Thu              12              5   \n",
       "3                      No                Thu              17              4   \n",
       "4                     Yes                Thu              23              0   \n",
       "5                      No                Thu              23              0   \n",
       "\n",
       "   duration_minute  member_age  \n",
       "0       869.750000          36  \n",
       "2      1030.900000          48  \n",
       "3       608.166667          31  \n",
       "4        26.416667          46  \n",
       "5        29.883333          61  \n",
       "\n",
       "[5 rows x 21 columns]"
      ]
     },
     "execution_count": 2,
     "metadata": {},
     "output_type": "execute_result"
    }
   ],
   "source": [
    "# load in the dataset into a pandas dataframe\n",
    "df = pd.read_csv('C:/Users/LENOVO/Downloads/201902-fordgobike-tripdata.csv')\n",
    "# change the data type for start and end time to be datetime64 \n",
    "df.start_time = pd.to_datetime(df.start_time)\n",
    "df.end_time = pd.to_datetime(df.end_time)\n",
    "# dt.strftime() function to convert the dates in the given series object to the specified date format\n",
    "# Directive %a -->> is Meaning Weekday as locale’s abbreviated name..\n",
    "\n",
    "df['start_time_weekday'] = df['start_time'].dt.strftime('%a')\n",
    "# Start and end time in hours -->> dt. hour attribute return a numpy array containing the hour .\n",
    "df['start_time_hour'] = df['start_time'].dt.hour\n",
    "df['end_time_hour'] = df['end_time'].dt.hour\n",
    "# to convert seconds to minutes \n",
    "df['duration_minute'] = df['duration_sec']/60\n",
    "# we will calculate riders age from 'member_birth_year'\n",
    "df['member_age'] = 2020 - df['member_birth_year']\n",
    "# that query help to select the attribute without null values \n",
    "df = df.query('member_age <= 170')\n",
    "#casting member_birth_year ,member_age  attributes from float to int \n",
    "df['member_birth_year'] = df['member_birth_year'].astype('int')\n",
    "df['member_age'] = df['member_age'].astype('int')\n",
    "df.head()\n",
    "\n"
   ]
  },
  {
   "cell_type": "markdown",
   "metadata": {
    "slideshow": {
     "slide_type": "skip"
    }
   },
   "source": [
    "> Note that the above cells have been set as \"Skip\"-type slides. That means\n",
    "that when the notebook is rendered as http slides, those cells won't show up."
   ]
  },
  {
   "cell_type": "markdown",
   "metadata": {
    "slideshow": {
     "slide_type": "slide"
    }
   },
   "source": [
    "## (Ford GoBike Usage by weekday)\n",
    "\n",
    "> the most days of trip (thursday , tuesday , wednesday , friday, monday ) and the least days are (sunday , saturday)"
   ]
  },
  {
   "cell_type": "code",
   "execution_count": 5,
   "metadata": {
    "slideshow": {
     "slide_type": "subslide"
    }
   },
   "outputs": [
    {
     "data": {
      "image/png": "[encoded data removed]",
      "text/plain": [
       "<Figure size 576x360 with 1 Axes>"
      ]
     },
     "metadata": {
      "needs_background": "light"
     },
     "output_type": "display_data"
    }
   ],
   "source": [
    "plt.figure(figsize=[8,5])\n",
    "plt.bar(x = df.start_time_weekday.value_counts().keys(), height = df.start_time_weekday.value_counts() )\n",
    "plt.title('the most useage of weekday')\n",
    "plt.xlabel('start trip time in weekday')\n",
    "plt.ylabel('COUNTS THE MOST DAYS USERS TAKE A TRIP')\n",
    "plt.show()"
   ]
  },
  {
   "cell_type": "markdown",
   "metadata": {
    "collapsed": true,
    "slideshow": {
     "slide_type": "slide"
    }
   },
   "source": [
    "## (User Types and Their weekday and hours Usage)\n",
    "\n",
    "> Subscribers are primarily daily commuters, having short trips to and from work, who rent a bike on weekdays at 8-9am and 5-6pm. Customers are usually use the system mainly on weekends to explore the Bay Area."
   ]
  },
  {
   "cell_type": "code",
   "execution_count": 4,
   "metadata": {
    "slideshow": {
     "slide_type": "subslide"
    }
   },
   "outputs": [
    {
     "data": {
      "image/png": "[encoded data removed]",
      "text/plain": [
       "<Figure size 576x576 with 1 Axes>"
      ]
     },
     "metadata": {
      "needs_background": "light"
     },
     "output_type": "display_data"
    }
   ],
   "source": [
    "plt.figure(figsize = [8, 8])\n",
    "\n",
    "# subplot 1\n",
    "plt.subplot(3, 1, 1)\n",
    "sb.countplot(data = df, x = 'start_time_weekday', hue = 'user_type', palette = 'Blues')\n",
    "plt.xlabel('start trip time in weekday')\n",
    "plt.ylabel('Number of Bike Trips')\n",
    "plt.title(\"Ford GoBike System User_types and their usage of weekdays\", y=1.05, fontsize=16)\n",
    "plt.show()"
   ]
  },
  {
   "cell_type": "markdown",
   "metadata": {
    "slideshow": {
     "slide_type": "slide"
    }
   },
   "source": [
    "## (the trip duration per user_type and Gender)\n",
    ">  In both cases, females take longer trips than males . The difference is the customers greater than the subscribers (the difference is quite small).\n"
   ]
  },
  {
   "cell_type": "code",
   "execution_count": 6,
   "metadata": {
    "slideshow": {
     "slide_type": "subslide"
    }
   },
   "outputs": [
    {
     "data": {
      "image/png": "[encoded data removed]",
      "text/plain": [
       "<Figure size 810.375x360 with 1 Axes>"
      ]
     },
     "metadata": {
      "needs_background": "light"
     },
     "output_type": "display_data"
    }
   ],
   "source": [
    "graph = sb.catplot(data=df, x='user_type', y=\"duration_minute\", hue=\"member_gender\", kind=\"violin\", height=5, aspect=2);\n",
    "\n",
    "graph.set_axis_labels(\"User TypeS\", \"Trip Duration IN Minutes\")\n",
    "graph._legend.set_title('Gender')\n",
    "graph.fig.suptitle('the trip duration per user_type and Gender', y=1.05, fontsize=13);"
   ]
  },
  {
   "cell_type": "markdown",
   "metadata": {
    "slideshow": {
     "slide_type": "skip"
    }
   },
   "source": [
    "> Once you're ready to finish your presentation, check your output by using\n",
    "nbconvert to export the notebook and set up a server for the slides. From the\n",
    "terminal or command line, use the following expression:\n",
    "> > `jupyter nbconvert <file_name>.ipynb --to slides --post serve --template output_toggle`\n",
    "\n",
    "> This should open a tab in your web browser where you can scroll through your\n",
    "presentation. Sub-slides can be accessed by pressing 'down' when viewing its parent\n",
    "slide. Make sure you remove all of the quote-formatted guide notes like this one\n",
    "before you finish your presentation!"
   ]
  },
  {
   "cell_type": "markdown",
   "metadata": {
    "slideshow": {
     "slide_type": "slide"
    }
   },
   "source": [
    "### Summery\n",
    "There are two types of clients using the system: Subscribers and Customers. Subscribers are primarily daily commuters, having short trips to and from work, who rent a bike on weekdays at 8-9am and 5-6pm.\n",
    "There was a lot of subscribers using the bike sharing system than casual customers overall.\n",
    "where a large number of people can benefit from this program:\n",
    "Environmentally friendly, budget friendly, and lifetsyle friendly.\n",
    "Renting a bike from theFord GoBike System is a fantastic (healthy and environmentally friendly) way of moving around in the city, both for enjoyment and work.\n",
    "\n",
    " "
   ]
  },
  {
   "cell_type": "code",
   "execution_count": null,
   "metadata": {},
   "outputs": [],
   "source": []
  }
 ],
 "metadata": {
  "celltoolbar": "Slideshow",
  "kernelspec": {
   "display_name": "Python 3",
   "language": "python",
   "name": "python3"
  },
  "language_info": {
   "codemirror_mode": {
    "name": "ipython",
    "version": 3
   },
   "file_extension": ".py",
   "mimetype": "text/x-python",
   "name": "python",
   "nbconvert_exporter": "python",
   "pygments_lexer": "ipython3",
   "version": "3.8.3"
  }
 },
 "nbformat": 4,
 "nbformat_minor": 2
}
